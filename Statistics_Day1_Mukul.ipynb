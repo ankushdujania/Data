{
 "cells": [
  {
   "cell_type": "markdown",
   "metadata": {},
   "source": [
    "###Statistics \n",
    "1. Random Variable - A random variable is a variable whose value is generated  by random experiment...\n",
    "Some Exmaple of Random Experiment..\n",
    "* No pf people visiting MAC-D\n",
    "* No of credit card Applications recivied by a bank \n",
    "* Amount of claim recived by an insaurance company during covid\n",
    "\n",
    "2. A random variable can be divided into two parts ---* Descrete Random Variable & **Continous Random variable...\n",
    "3. Discrete RV have the following Prob Distribution which are namley **Binomial** 0r **Possion** or **Hyper Geometric Prob Dist***\n",
    "4. Wherin the case of continous RV, we will study **Normal Distribution.\n",
    "\n",
    "##Properties of a Probality distribution..\n",
    "1. That the probability value cab be between 0 to 1.\n",
    "2. The sum of all the Probability  in a probablilty distribution will always be equal to 1.\n",
    "3. Excpected value of Prob Distribution is the value that we can expect most of the times, given the experiment n no. of times.\n",
    "\n",
    "##Binomial Distribution Properties \n",
    "1. Two Outcomes..\n",
    "2. P and Q defines are prob of success and prob of failure..\n",
    "3. Outcomes of trails are independent in nature..\n",
    "4. scipy as stats\n",
    "\n",
    "75% students in a college use Instagram. Now, 3 students are randomly selected. what is the probability that excatly 2 students\n",
    "out of 3 use Insta."
   ]
  },
  {
   "cell_type": "code",
   "execution_count": 1,
   "metadata": {},
   "outputs": [],
   "source": [
    "import numpy as np\n",
    "import pandas as pd\n",
    "import scipy.stats as stats"
   ]
  },
  {
   "cell_type": "markdown",
   "metadata": {},
   "source": [
    "# Instagram Qestions\n",
    "75% students in a college use Instagram. Now, 3 students are randomly selected. what is the probability that excatly 2 students\n",
    "out of 3 use Insta.\n",
    "#Approch - Since out of selected students, we wanna know weather the person\n",
    "#Uses Instagram or not and therfore, we use binomial Prob Distt..\n",
    "#In python, we have two functions - PMF, CDF\n",
    "#PMF - Prob of that Instance a.k.a Prob of Mass Function.\n",
    "#CDF - Combined Prob of all the instances - Cumulative Density Function\n"
   ]
  },
  {
   "cell_type": "code",
   "execution_count": 3,
   "metadata": {},
   "outputs": [
    {
     "data": {
      "text/plain": [
       "0.42187499999999994"
      ]
     },
     "execution_count": 3,
     "metadata": {},
     "output_type": "execute_result"
    }
   ],
   "source": [
    "p = 0.75\n",
    "k = 2 \n",
    "n = 3\n",
    "\n",
    "#we find the prob of (x=2)\n",
    "stats.binom.pmf(k, n, p)\n",
    "\n",
    "# however, if we wanna find out the prob of P(x<=2)::CDF"
   ]
  },
  {
   "cell_type": "markdown",
   "metadata": {},
   "source": [
    "##Question for Binomial Pro Distribution\n",
    "\n",
    "#In a courirer company, we see that the bussiness received 25% complaints,\n",
    "#Therfore, there are two pssibilittes while doing the bussiness with the company \n",
    "\n",
    "#Customer will complian or else the package will be delivered \n",
    "\n",
    "complain_prob = 0.25\n",
    "\n",
    "#There are 20 customers who sent courier from this company and..\n",
    "# 3 custometrs returned with the complaint..\n",
    "\n",
    "total = 20 \n",
    "cust_with_cust = 3\n",
    "\n",
    "#What is the probability of receveing 3 complints..\n",
    "\n"
   ]
  },
  {
   "cell_type": "code",
   "execution_count": 6,
   "metadata": {},
   "outputs": [
    {
     "data": {
      "text/plain": [
       "0.13389561519943532"
      ]
     },
     "execution_count": 6,
     "metadata": {},
     "output_type": "execute_result"
    }
   ],
   "source": [
    "complain_prob = 0.25\n",
    "total_cust = 20\n",
    "cust_with_complain = 3\n",
    "#What will be Prob complain of 03 compalints\n",
    "# P(X==3)\n",
    "stats.binom.pmf(cust_with_complain, total_cust, complain_prob)"
   ]
  },
  {
   "cell_type": "code",
   "execution_count": 11,
   "metadata": {},
   "outputs": [
    {
     "data": {
      "text/plain": [
       "0.22515604766431352"
      ]
     },
     "execution_count": 11,
     "metadata": {},
     "output_type": "execute_result"
    }
   ],
   "source": [
    "#B) Calculate the prob of receiving more then 3 complaints\n",
    "\n",
    "#P(X<=3) = P(X=0)+P(X=1)+P(X=2)+P(X=3)\n",
    "stats.binom.cdf(cust_with_complain, total_cust, complain_prob)"
   ]
  },
  {
   "cell_type": "code",
   "execution_count": 10,
   "metadata": {},
   "outputs": [
    {
     "data": {
      "text/plain": [
       "0.7748439523356865"
      ]
     },
     "execution_count": 10,
     "metadata": {},
     "output_type": "execute_result"
    }
   ],
   "source": [
    "# P(X>3)\n",
    "1-stats.binom.cdf(cust_with_complain, total_cust, complain_prob)"
   ]
  },
  {
   "cell_type": "markdown",
   "metadata": {},
   "source": [
    "# A survey is conducted and it was found that people sepnd the 300 minutes of their day surfing on shoping sites on an average with sStandard deviation  of 127 min..\n",
    "# find out the probability that users are spending less then equal to 100 min per day."
   ]
  },
  {
   "cell_type": "code",
   "execution_count": 20,
   "metadata": {},
   "outputs": [
    {
     "data": {
      "text/plain": [
       "-1.5748031496062993"
      ]
     },
     "execution_count": 20,
     "metadata": {},
     "output_type": "execute_result"
    }
   ],
   "source": [
    "l =100\n",
    "m =300\n",
    "sd=127\n",
    "z_score=(l-m)/sd\n",
    "z_score"
   ]
  },
  {
   "cell_type": "code",
   "execution_count": 22,
   "metadata": {},
   "outputs": [
    {
     "data": {
      "text/plain": [
       "0.057650944602972154"
      ]
     },
     "execution_count": 22,
     "metadata": {},
     "output_type": "execute_result"
    }
   ],
   "source": [
    "#find the prob\n",
    "stats.norm.cdf(z_score)"
   ]
  },
  {
   "cell_type": "markdown",
   "metadata": {},
   "source": [
    "##Inclass Questions"
   ]
  },
  {
   "cell_type": "code",
   "execution_count": 23,
   "metadata": {},
   "outputs": [
    {
     "data": {
      "text/plain": [
       "0.11678961654306189"
      ]
     },
     "execution_count": 23,
     "metadata": {},
     "output_type": "execute_result"
    }
   ],
   "source": [
    "#Question1 \n",
    "p=0.32\n",
    "n=50\n",
    "x=15\n",
    "stats.binom.pmf(x,n,p)"
   ]
  },
  {
   "cell_type": "code",
   "execution_count": 25,
   "metadata": {},
   "outputs": [
    {
     "data": {
      "text/plain": [
       "0.38292492254802624"
      ]
     },
     "execution_count": 25,
     "metadata": {},
     "output_type": "execute_result"
    }
   ],
   "source": [
    "#Questions2\n",
    "mew=80\n",
    "sd_sigma=20\n",
    "stats.norm.cdf(90,80,20)-stats.norm.cdf(70,80,20)"
   ]
  },
  {
   "cell_type": "code",
   "execution_count": 36,
   "metadata": {},
   "outputs": [
    {
     "data": {
      "text/plain": [
       "0.0004290603331967846"
      ]
     },
     "execution_count": 36,
     "metadata": {},
     "output_type": "execute_result"
    }
   ],
   "source": [
    "# Q3 Data Scientist salary Problem\n",
    "\n",
    "mew= 700000\n",
    "sd = 90000\n",
    "\n",
    "#Find the prob of salary more then 10 lac\n",
    "\n",
    "1-stats.norm.cdf(1000000,mew, sd)"
   ]
  },
  {
   "cell_type": "markdown",
   "metadata": {},
   "source": [
    "Sampling"
   ]
  },
  {
   "cell_type": "code",
   "execution_count": 37,
   "metadata": {},
   "outputs": [],
   "source": [
    "choco_chips = [5, 2.5, 3.5, 7.5, 10]"
   ]
  },
  {
   "cell_type": "code",
   "execution_count": 43,
   "metadata": {},
   "outputs": [
    {
     "name": "stdout",
     "output_type": "stream",
     "text": [
      "Sampling with Replacement [7.5, 2.5, 7.5, 5, 5, 7.5, 2.5, 5, 5, 5]\n",
      "Sampling without Replacement [5, 10, 2.5, 5, 7.5, 5]\n"
     ]
    }
   ],
   "source": [
    "import random\n",
    "\n",
    "#random.sample is sampling wihtout replacement \n",
    "#where as random.choices is sampling with replacement aka Bootstrap Aggregation(Random_Forest_Regression)\n",
    "\n",
    "print(\"Sampling with Replacement\", random.choices(population=choco_chips, k=10))\n",
    "print(\"Sampling without Replacement\", random.choices(population=choco_chips, k=6)) #6 doesnt took by system because random.choioces doesnt take the more then counts."
   ]
  },
  {
   "cell_type": "code",
   "execution_count": null,
   "metadata": {},
   "outputs": [],
   "source": []
  }
 ],
 "metadata": {
  "kernelspec": {
   "display_name": "Python 3.10.4 ('venv': venv)",
   "language": "python",
   "name": "python3"
  },
  "language_info": {
   "codemirror_mode": {
    "name": "ipython",
    "version": 3
   },
   "file_extension": ".py",
   "mimetype": "text/x-python",
   "name": "python",
   "nbconvert_exporter": "python",
   "pygments_lexer": "ipython3",
   "version": "3.10.4"
  },
  "orig_nbformat": 4,
  "vscode": {
   "interpreter": {
    "hash": "9378fb610dc1d9188f009e905a0be862dd6a61030397784a0074db12581998e7"
   }
  }
 },
 "nbformat": 4,
 "nbformat_minor": 2
}
