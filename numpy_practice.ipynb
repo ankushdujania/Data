{
 "cells": [
  {
   "cell_type": "code",
   "execution_count": 6,
   "metadata": {},
   "outputs": [],
   "source": [
    "import numpy as np\n",
    "import pandas as pd\n",
    "import matplotlib.pyplot as plt\n",
    "import seaborn as sns\n"
   ]
  },
  {
   "cell_type": "code",
   "execution_count": 7,
   "metadata": {},
   "outputs": [
    {
     "data": {
      "text/plain": [
       "array([12,  1])"
      ]
     },
     "execution_count": 7,
     "metadata": {},
     "output_type": "execute_result"
    }
   ],
   "source": [
    "data = np.random.randint(1,20,2)\n",
    "data\n"
   ]
  },
  {
   "cell_type": "code",
   "execution_count": 8,
   "metadata": {},
   "outputs": [
    {
     "data": {
      "text/plain": [
       "array([[0., 0.],\n",
       "       [0., 0.]])"
      ]
     },
     "execution_count": 8,
     "metadata": {},
     "output_type": "execute_result"
    }
   ],
   "source": [
    "data = np.zeros([2,2])\n",
    "data"
   ]
  },
  {
   "cell_type": "code",
   "execution_count": 13,
   "metadata": {},
   "outputs": [
    {
     "data": {
      "text/plain": [
       "array([[1, 2, 3],\n",
       "       [4, 5, 6]])"
      ]
     },
     "execution_count": 13,
     "metadata": {},
     "output_type": "execute_result"
    }
   ],
   "source": [
    "data = np.array([[1,2,3],[4,5,6]])\n",
    "data"
   ]
  },
  {
   "cell_type": "code",
   "execution_count": 9,
   "metadata": {},
   "outputs": [
    {
     "data": {
      "text/plain": [
       "array([[1, 2, 3],\n",
       "       [2, 3, 4]])"
      ]
     },
     "execution_count": 9,
     "metadata": {},
     "output_type": "execute_result"
    }
   ],
   "source": [
    "data = np.array([[1,2,3],[2,3,4]])\n",
    "data"
   ]
  },
  {
   "cell_type": "code",
   "execution_count": 15,
   "metadata": {},
   "outputs": [
    {
     "data": {
      "text/plain": [
       "3"
      ]
     },
     "execution_count": 15,
     "metadata": {},
     "output_type": "execute_result"
    }
   ],
   "source": [
    "data[1][1]"
   ]
  },
  {
   "cell_type": "code",
   "execution_count": 11,
   "metadata": {},
   "outputs": [],
   "source": [
    "import numpy as np\n",
    "import pandas as pd"
   ]
  },
  {
   "cell_type": "code",
   "execution_count": 12,
   "metadata": {},
   "outputs": [
    {
     "data": {
      "text/html": [
       "<div>\n",
       "<style scoped>\n",
       "    .dataframe tbody tr th:only-of-type {\n",
       "        vertical-align: middle;\n",
       "    }\n",
       "\n",
       "    .dataframe tbody tr th {\n",
       "        vertical-align: top;\n",
       "    }\n",
       "\n",
       "    .dataframe thead th {\n",
       "        text-align: right;\n",
       "    }\n",
       "</style>\n",
       "<table border=\"1\" class=\"dataframe\">\n",
       "  <thead>\n",
       "    <tr style=\"text-align: right;\">\n",
       "      <th></th>\n",
       "      <th>Name</th>\n",
       "      <th>Display Name</th>\n",
       "      <th>Tags</th>\n",
       "      <th>Email</th>\n",
       "      <th>PAN No</th>\n",
       "      <th>Remarks</th>\n",
       "    </tr>\n",
       "  </thead>\n",
       "  <tbody>\n",
       "    <tr>\n",
       "      <th>0</th>\n",
       "      <td>2S PRECISION TOOLS &amp; COMPONENTS</td>\n",
       "      <td>2S PRECISION TOOLS &amp; COMPONENTS</td>\n",
       "      <td>Bangalore Trade Receivables - CP</td>\n",
       "      <td>2sptools@gmail.com</td>\n",
       "      <td>AAAFZ4003E</td>\n",
       "      <td>NaN</td>\n",
       "    </tr>\n",
       "    <tr>\n",
       "      <th>1</th>\n",
       "      <td>3M INDIA LIMITED - GUJARAT</td>\n",
       "      <td>3M INDIA LIMITED - GUJARAT</td>\n",
       "      <td>Bangalore Trade Receivables - CP</td>\n",
       "      <td>btammangowda@mmm.com</td>\n",
       "      <td>AAACB5724H</td>\n",
       "      <td>NaN</td>\n",
       "    </tr>\n",
       "    <tr>\n",
       "      <th>2</th>\n",
       "      <td>3M INDIA LIMITED - KA</td>\n",
       "      <td>3M INDIA LIMITED - KA</td>\n",
       "      <td>Bangalore Trade Receivables - CP</td>\n",
       "      <td>btammangowda@mmm.com</td>\n",
       "      <td>AAACB5724H</td>\n",
       "      <td>NaN</td>\n",
       "    </tr>\n",
       "    <tr>\n",
       "      <th>3</th>\n",
       "      <td>ABHINANDAN PLASTICS INDIA PVT LTD</td>\n",
       "      <td>ABHINANDAN PLASTICS INDIA PVT LTD</td>\n",
       "      <td>Bangalore Trade Receivables - CP</td>\n",
       "      <td>abhinandan.plastics@gmail.com</td>\n",
       "      <td>AABCA7082Q</td>\n",
       "      <td>Updated</td>\n",
       "    </tr>\n",
       "    <tr>\n",
       "      <th>4</th>\n",
       "      <td>ABINANDAN PETROPACK PVT LTD</td>\n",
       "      <td>ABINANDAN PETROPACK PVT LTD</td>\n",
       "      <td>Bangalore Trade Receivables - CP</td>\n",
       "      <td>abhinandan.mrpl@gmail.com</td>\n",
       "      <td>AABCA7911Q</td>\n",
       "      <td>Updated</td>\n",
       "    </tr>\n",
       "  </tbody>\n",
       "</table>\n",
       "</div>"
      ],
      "text/plain": [
       "                                Name                       Display Name  \\\n",
       "0    2S PRECISION TOOLS & COMPONENTS    2S PRECISION TOOLS & COMPONENTS   \n",
       "1         3M INDIA LIMITED - GUJARAT         3M INDIA LIMITED - GUJARAT   \n",
       "2              3M INDIA LIMITED - KA              3M INDIA LIMITED - KA   \n",
       "3  ABHINANDAN PLASTICS INDIA PVT LTD  ABHINANDAN PLASTICS INDIA PVT LTD   \n",
       "4        ABINANDAN PETROPACK PVT LTD        ABINANDAN PETROPACK PVT LTD   \n",
       "\n",
       "                               Tags                          Email  \\\n",
       "0  Bangalore Trade Receivables - CP             2sptools@gmail.com   \n",
       "1  Bangalore Trade Receivables - CP           btammangowda@mmm.com   \n",
       "2  Bangalore Trade Receivables - CP           btammangowda@mmm.com   \n",
       "3  Bangalore Trade Receivables - CP  abhinandan.plastics@gmail.com   \n",
       "4  Bangalore Trade Receivables - CP      abhinandan.mrpl@gmail.com   \n",
       "\n",
       "       PAN No  Remarks  \n",
       "0  AAAFZ4003E      NaN  \n",
       "1  AAACB5724H      NaN  \n",
       "2  AAACB5724H      NaN  \n",
       "3  AABCA7082Q  Updated  \n",
       "4  AABCA7911Q  Updated  "
      ]
     },
     "execution_count": 12,
     "metadata": {},
     "output_type": "execute_result"
    }
   ],
   "source": [
    "df = pd.read_excel(\"./data/bangalore_cp.xlsx\")\n",
    "df.head()"
   ]
  },
  {
   "cell_type": "code",
   "execution_count": 13,
   "metadata": {},
   "outputs": [
    {
     "data": {
      "text/plain": [
       "Name              0\n",
       "Display Name      0\n",
       "Tags              0\n",
       "Email            25\n",
       "PAN No            3\n",
       "Remarks         276\n",
       "dtype: int64"
      ]
     },
     "execution_count": 13,
     "metadata": {},
     "output_type": "execute_result"
    }
   ],
   "source": [
    "df.isnull().sum()"
   ]
  },
  {
   "cell_type": "code",
   "execution_count": 11,
   "metadata": {},
   "outputs": [
    {
     "data": {
      "text/html": [
       "<div>\n",
       "<style scoped>\n",
       "    .dataframe tbody tr th:only-of-type {\n",
       "        vertical-align: middle;\n",
       "    }\n",
       "\n",
       "    .dataframe tbody tr th {\n",
       "        vertical-align: top;\n",
       "    }\n",
       "\n",
       "    .dataframe thead th {\n",
       "        text-align: right;\n",
       "    }\n",
       "</style>\n",
       "<table border=\"1\" class=\"dataframe\">\n",
       "  <thead>\n",
       "    <tr style=\"text-align: right;\">\n",
       "      <th></th>\n",
       "      <th>Name</th>\n",
       "      <th>Tags</th>\n",
       "      <th>Email</th>\n",
       "      <th>PAN No</th>\n",
       "    </tr>\n",
       "  </thead>\n",
       "  <tbody>\n",
       "    <tr>\n",
       "      <th>0</th>\n",
       "      <td>2S PRECISION TOOLS &amp; COMPONENTS</td>\n",
       "      <td>Bangalore Trade Receivables - CP</td>\n",
       "      <td>2sptools@gmail.com</td>\n",
       "      <td>AAAFZ4003E</td>\n",
       "    </tr>\n",
       "    <tr>\n",
       "      <th>1</th>\n",
       "      <td>3M INDIA LIMITED - GUJARAT</td>\n",
       "      <td>Bangalore Trade Receivables - CP</td>\n",
       "      <td>btammangowda@mmm.com</td>\n",
       "      <td>AAACB5724H</td>\n",
       "    </tr>\n",
       "    <tr>\n",
       "      <th>2</th>\n",
       "      <td>3M INDIA LIMITED - KA</td>\n",
       "      <td>Bangalore Trade Receivables - CP</td>\n",
       "      <td>btammangowda@mmm.com</td>\n",
       "      <td>AAACB5724H</td>\n",
       "    </tr>\n",
       "    <tr>\n",
       "      <th>3</th>\n",
       "      <td>ABHINANDAN PLASTICS INDIA PVT LTD</td>\n",
       "      <td>Bangalore Trade Receivables - CP</td>\n",
       "      <td>abhinandan.plastics@gmail.com</td>\n",
       "      <td>AABCA7082Q</td>\n",
       "    </tr>\n",
       "    <tr>\n",
       "      <th>4</th>\n",
       "      <td>ABINANDAN PETROPACK PVT LTD</td>\n",
       "      <td>Bangalore Trade Receivables - CP</td>\n",
       "      <td>abhinandan.mrpl@gmail.com</td>\n",
       "      <td>AABCA7911Q</td>\n",
       "    </tr>\n",
       "    <tr>\n",
       "      <th>...</th>\n",
       "      <td>...</td>\n",
       "      <td>...</td>\n",
       "      <td>...</td>\n",
       "      <td>...</td>\n",
       "    </tr>\n",
       "    <tr>\n",
       "      <th>286</th>\n",
       "      <td>VSP PACKAGING</td>\n",
       "      <td>Bangalore Trade Receivables - CP</td>\n",
       "      <td>vsppack@gmail.com</td>\n",
       "      <td>AFSPS7799K</td>\n",
       "    </tr>\n",
       "    <tr>\n",
       "      <th>287</th>\n",
       "      <td>Venkateshwara Polymers</td>\n",
       "      <td>Bangalore Trade Receivables - CP</td>\n",
       "      <td>cmvishwanath74@gmail.com</td>\n",
       "      <td>AHMPV9702D</td>\n",
       "    </tr>\n",
       "    <tr>\n",
       "      <th>288</th>\n",
       "      <td>WIN POLYMERS</td>\n",
       "      <td>Bangalore Trade Receivables - CP</td>\n",
       "      <td>vanaja@saraswathiplast.in</td>\n",
       "      <td>AFIPC5531K</td>\n",
       "    </tr>\n",
       "    <tr>\n",
       "      <th>289</th>\n",
       "      <td>WINPLAST INDUSTRIES</td>\n",
       "      <td>Bangalore Trade Receivables - CP</td>\n",
       "      <td>vanaja@saraswathiplast.in</td>\n",
       "      <td>AABFW5767H</td>\n",
       "    </tr>\n",
       "    <tr>\n",
       "      <th>290</th>\n",
       "      <td>YEKADANTHA PACKAGING</td>\n",
       "      <td>Bangalore Trade Receivables - CP</td>\n",
       "      <td>yekadanthapackaging@gmail.com</td>\n",
       "      <td>AACFY1258Q</td>\n",
       "    </tr>\n",
       "  </tbody>\n",
       "</table>\n",
       "<p>291 rows × 4 columns</p>\n",
       "</div>"
      ],
      "text/plain": [
       "                                  Name                              Tags  \\\n",
       "0      2S PRECISION TOOLS & COMPONENTS  Bangalore Trade Receivables - CP   \n",
       "1           3M INDIA LIMITED - GUJARAT  Bangalore Trade Receivables - CP   \n",
       "2                3M INDIA LIMITED - KA  Bangalore Trade Receivables - CP   \n",
       "3    ABHINANDAN PLASTICS INDIA PVT LTD  Bangalore Trade Receivables - CP   \n",
       "4          ABINANDAN PETROPACK PVT LTD  Bangalore Trade Receivables - CP   \n",
       "..                                 ...                               ...   \n",
       "286                      VSP PACKAGING  Bangalore Trade Receivables - CP   \n",
       "287             Venkateshwara Polymers  Bangalore Trade Receivables - CP   \n",
       "288                       WIN POLYMERS  Bangalore Trade Receivables - CP   \n",
       "289                WINPLAST INDUSTRIES  Bangalore Trade Receivables - CP   \n",
       "290               YEKADANTHA PACKAGING  Bangalore Trade Receivables - CP   \n",
       "\n",
       "                             Email      PAN No  \n",
       "0               2sptools@gmail.com  AAAFZ4003E  \n",
       "1             btammangowda@mmm.com  AAACB5724H  \n",
       "2             btammangowda@mmm.com  AAACB5724H  \n",
       "3    abhinandan.plastics@gmail.com  AABCA7082Q  \n",
       "4        abhinandan.mrpl@gmail.com  AABCA7911Q  \n",
       "..                             ...         ...  \n",
       "286              vsppack@gmail.com  AFSPS7799K  \n",
       "287       cmvishwanath74@gmail.com  AHMPV9702D  \n",
       "288      vanaja@saraswathiplast.in  AFIPC5531K  \n",
       "289      vanaja@saraswathiplast.in  AABFW5767H  \n",
       "290  yekadanthapackaging@gmail.com  AACFY1258Q  \n",
       "\n",
       "[291 rows x 4 columns]"
      ]
     },
     "execution_count": 11,
     "metadata": {},
     "output_type": "execute_result"
    }
   ],
   "source": [
    "df.drop([\"Display Name\",\"Remarks\"],axis=1)"
   ]
  },
  {
   "cell_type": "code",
   "execution_count": 12,
   "metadata": {},
   "outputs": [
    {
     "data": {
      "text/html": [
       "<div>\n",
       "<style scoped>\n",
       "    .dataframe tbody tr th:only-of-type {\n",
       "        vertical-align: middle;\n",
       "    }\n",
       "\n",
       "    .dataframe tbody tr th {\n",
       "        vertical-align: top;\n",
       "    }\n",
       "\n",
       "    .dataframe thead th {\n",
       "        text-align: right;\n",
       "    }\n",
       "</style>\n",
       "<table border=\"1\" class=\"dataframe\">\n",
       "  <thead>\n",
       "    <tr style=\"text-align: right;\">\n",
       "      <th></th>\n",
       "      <th>Name</th>\n",
       "      <th>Display Name</th>\n",
       "      <th>Tags</th>\n",
       "      <th>Email</th>\n",
       "      <th>PAN No</th>\n",
       "      <th>Remarks</th>\n",
       "    </tr>\n",
       "  </thead>\n",
       "  <tbody>\n",
       "    <tr>\n",
       "      <th>count</th>\n",
       "      <td>291</td>\n",
       "      <td>291</td>\n",
       "      <td>291</td>\n",
       "      <td>266</td>\n",
       "      <td>288</td>\n",
       "      <td>15</td>\n",
       "    </tr>\n",
       "    <tr>\n",
       "      <th>unique</th>\n",
       "      <td>289</td>\n",
       "      <td>289</td>\n",
       "      <td>1</td>\n",
       "      <td>238</td>\n",
       "      <td>278</td>\n",
       "      <td>1</td>\n",
       "    </tr>\n",
       "    <tr>\n",
       "      <th>top</th>\n",
       "      <td>KRISHNA INDUSTRIES</td>\n",
       "      <td>KRISHNA INDUSTRIES</td>\n",
       "      <td>Bangalore Trade Receivables - CP</td>\n",
       "      <td>seshadrikn@gmail.com</td>\n",
       "      <td>AAACG7300C</td>\n",
       "      <td>Updated</td>\n",
       "    </tr>\n",
       "    <tr>\n",
       "      <th>freq</th>\n",
       "      <td>2</td>\n",
       "      <td>2</td>\n",
       "      <td>291</td>\n",
       "      <td>4</td>\n",
       "      <td>2</td>\n",
       "      <td>15</td>\n",
       "    </tr>\n",
       "  </tbody>\n",
       "</table>\n",
       "</div>"
      ],
      "text/plain": [
       "                      Name        Display Name  \\\n",
       "count                  291                 291   \n",
       "unique                 289                 289   \n",
       "top     KRISHNA INDUSTRIES  KRISHNA INDUSTRIES   \n",
       "freq                     2                   2   \n",
       "\n",
       "                                    Tags                 Email      PAN No  \\\n",
       "count                                291                   266         288   \n",
       "unique                                 1                   238         278   \n",
       "top     Bangalore Trade Receivables - CP  seshadrikn@gmail.com  AAACG7300C   \n",
       "freq                                 291                     4           2   \n",
       "\n",
       "        Remarks  \n",
       "count        15  \n",
       "unique        1  \n",
       "top     Updated  \n",
       "freq         15  "
      ]
     },
     "execution_count": 12,
     "metadata": {},
     "output_type": "execute_result"
    }
   ],
   "source": [
    "df.describe()"
   ]
  },
  {
   "cell_type": "code",
   "execution_count": 15,
   "metadata": {},
   "outputs": [
    {
     "name": "stdout",
     "output_type": "stream",
     "text": [
      "<class 'pandas.core.frame.DataFrame'>\n",
      "RangeIndex: 291 entries, 0 to 290\n",
      "Data columns (total 6 columns):\n",
      " #   Column        Non-Null Count  Dtype \n",
      "---  ------        --------------  ----- \n",
      " 0   Name          291 non-null    object\n",
      " 1   Display Name  291 non-null    object\n",
      " 2   Tags          291 non-null    object\n",
      " 3   Email         266 non-null    object\n",
      " 4   PAN No        288 non-null    object\n",
      " 5   Remarks       15 non-null     object\n",
      "dtypes: object(6)\n",
      "memory usage: 13.8+ KB\n"
     ]
    }
   ],
   "source": [
    "df.info()"
   ]
  },
  {
   "cell_type": "code",
   "execution_count": 16,
   "metadata": {},
   "outputs": [
    {
     "ename": "TypeError",
     "evalue": "unhashable type: 'list'",
     "output_type": "error",
     "traceback": [
      "\u001b[1;31m---------------------------------------------------------------------------\u001b[0m",
      "\u001b[1;31mTypeError\u001b[0m                                 Traceback (most recent call last)",
      "\u001b[1;32md:\\programming_advance\\data_bot\\numpy_practice.ipynb Cell 13\u001b[0m in \u001b[0;36m<cell line: 1>\u001b[1;34m()\u001b[0m\n\u001b[1;32m----> <a href='vscode-notebook-cell:/d%3A/programming_advance/data_bot/numpy_practice.ipynb#ch0000012?line=0'>1</a>\u001b[0m df\u001b[39m.\u001b[39;49mmax([\u001b[39m\"\u001b[39;49m\u001b[39m\"\u001b[39;49m])\n",
      "File \u001b[1;32md:\\programming_advance\\data_bot\\venv\\lib\\site-packages\\pandas\\core\\generic.py:11212\u001b[0m, in \u001b[0;36mNDFrame._add_numeric_operations.<locals>.max\u001b[1;34m(self, axis, skipna, level, numeric_only, **kwargs)\u001b[0m\n\u001b[0;32m  11192\u001b[0m \u001b[39m@doc\u001b[39m(  \u001b[39m# type: ignore[misc]\u001b[39;00m\n\u001b[0;32m  11193\u001b[0m     _num_doc,\n\u001b[0;32m  11194\u001b[0m     desc\u001b[39m=\u001b[39m\u001b[39m\"\u001b[39m\u001b[39mReturn the maximum of the values over the requested axis.\u001b[39m\u001b[39m\\n\u001b[39;00m\u001b[39m\\n\u001b[39;00m\u001b[39m\"\u001b[39m\n\u001b[1;32m   (...)\u001b[0m\n\u001b[0;32m  11210\u001b[0m     \u001b[39m*\u001b[39m\u001b[39m*\u001b[39mkwargs,\n\u001b[0;32m  11211\u001b[0m ):\n\u001b[1;32m> 11212\u001b[0m     \u001b[39mreturn\u001b[39;00m NDFrame\u001b[39m.\u001b[39mmax(\u001b[39mself\u001b[39m, axis, skipna, level, numeric_only, \u001b[39m*\u001b[39m\u001b[39m*\u001b[39mkwargs)\n",
      "File \u001b[1;32md:\\programming_advance\\data_bot\\venv\\lib\\site-packages\\pandas\\core\\generic.py:10669\u001b[0m, in \u001b[0;36mNDFrame.max\u001b[1;34m(self, axis, skipna, level, numeric_only, **kwargs)\u001b[0m\n\u001b[0;32m  10661\u001b[0m \u001b[39mdef\u001b[39;00m \u001b[39mmax\u001b[39m(\n\u001b[0;32m  10662\u001b[0m     \u001b[39mself\u001b[39m,\n\u001b[0;32m  10663\u001b[0m     axis: Axis \u001b[39m|\u001b[39m \u001b[39mNone\u001b[39;00m \u001b[39m|\u001b[39m lib\u001b[39m.\u001b[39mNoDefault \u001b[39m=\u001b[39m lib\u001b[39m.\u001b[39mno_default,\n\u001b[1;32m   (...)\u001b[0m\n\u001b[0;32m  10667\u001b[0m     \u001b[39m*\u001b[39m\u001b[39m*\u001b[39mkwargs,\n\u001b[0;32m  10668\u001b[0m ):\n\u001b[1;32m> 10669\u001b[0m     \u001b[39mreturn\u001b[39;00m \u001b[39mself\u001b[39m\u001b[39m.\u001b[39m_stat_function(\n\u001b[0;32m  10670\u001b[0m         \u001b[39m\"\u001b[39m\u001b[39mmax\u001b[39m\u001b[39m\"\u001b[39m,\n\u001b[0;32m  10671\u001b[0m         nanops\u001b[39m.\u001b[39mnanmax,\n\u001b[0;32m  10672\u001b[0m         axis,\n\u001b[0;32m  10673\u001b[0m         skipna,\n\u001b[0;32m  10674\u001b[0m         level,\n\u001b[0;32m  10675\u001b[0m         numeric_only,\n\u001b[0;32m  10676\u001b[0m         \u001b[39m*\u001b[39m\u001b[39m*\u001b[39mkwargs,\n\u001b[0;32m  10677\u001b[0m     )\n",
      "File \u001b[1;32md:\\programming_advance\\data_bot\\venv\\lib\\site-packages\\pandas\\core\\generic.py:10639\u001b[0m, in \u001b[0;36mNDFrame._stat_function\u001b[1;34m(self, name, func, axis, skipna, level, numeric_only, **kwargs)\u001b[0m\n\u001b[0;32m  10629\u001b[0m     warnings\u001b[39m.\u001b[39mwarn(\n\u001b[0;32m  10630\u001b[0m         \u001b[39m\"\u001b[39m\u001b[39mUsing the level keyword in DataFrame and Series aggregations is \u001b[39m\u001b[39m\"\u001b[39m\n\u001b[0;32m  10631\u001b[0m         \u001b[39m\"\u001b[39m\u001b[39mdeprecated and will be removed in a future version. Use groupby \u001b[39m\u001b[39m\"\u001b[39m\n\u001b[1;32m   (...)\u001b[0m\n\u001b[0;32m  10634\u001b[0m         stacklevel\u001b[39m=\u001b[39mfind_stack_level(),\n\u001b[0;32m  10635\u001b[0m     )\n\u001b[0;32m  10636\u001b[0m     \u001b[39mreturn\u001b[39;00m \u001b[39mself\u001b[39m\u001b[39m.\u001b[39m_agg_by_level(\n\u001b[0;32m  10637\u001b[0m         name, axis\u001b[39m=\u001b[39maxis, level\u001b[39m=\u001b[39mlevel, skipna\u001b[39m=\u001b[39mskipna, numeric_only\u001b[39m=\u001b[39mnumeric_only\n\u001b[0;32m  10638\u001b[0m     )\n\u001b[1;32m> 10639\u001b[0m \u001b[39mreturn\u001b[39;00m \u001b[39mself\u001b[39;49m\u001b[39m.\u001b[39;49m_reduce(\n\u001b[0;32m  10640\u001b[0m     func, name\u001b[39m=\u001b[39;49mname, axis\u001b[39m=\u001b[39;49maxis, skipna\u001b[39m=\u001b[39;49mskipna, numeric_only\u001b[39m=\u001b[39;49mnumeric_only\n\u001b[0;32m  10641\u001b[0m )\n",
      "File \u001b[1;32md:\\programming_advance\\data_bot\\venv\\lib\\site-packages\\pandas\\core\\frame.py:9970\u001b[0m, in \u001b[0;36mDataFrame._reduce\u001b[1;34m(self, op, name, axis, skipna, numeric_only, filter_type, **kwds)\u001b[0m\n\u001b[0;32m   9967\u001b[0m         \u001b[39mself\u001b[39m \u001b[39m=\u001b[39m \u001b[39mtype\u001b[39m(\u001b[39mself\u001b[39m)(mgr)\n\u001b[0;32m   9969\u001b[0m \u001b[39m# TODO: Make other agg func handle axis=None properly GH#21597\u001b[39;00m\n\u001b[1;32m-> 9970\u001b[0m axis \u001b[39m=\u001b[39m \u001b[39mself\u001b[39;49m\u001b[39m.\u001b[39;49m_get_axis_number(axis)\n\u001b[0;32m   9971\u001b[0m labels \u001b[39m=\u001b[39m \u001b[39mself\u001b[39m\u001b[39m.\u001b[39m_get_agg_axis(axis)\n\u001b[0;32m   9972\u001b[0m \u001b[39massert\u001b[39;00m axis \u001b[39min\u001b[39;00m [\u001b[39m0\u001b[39m, \u001b[39m1\u001b[39m]\n",
      "File \u001b[1;32md:\\programming_advance\\data_bot\\venv\\lib\\site-packages\\pandas\\core\\generic.py:550\u001b[0m, in \u001b[0;36mNDFrame._get_axis_number\u001b[1;34m(cls, axis)\u001b[0m\n\u001b[0;32m    546\u001b[0m \u001b[39m@final\u001b[39m\n\u001b[0;32m    547\u001b[0m \u001b[39m@classmethod\u001b[39m\n\u001b[0;32m    548\u001b[0m \u001b[39mdef\u001b[39;00m \u001b[39m_get_axis_number\u001b[39m(\u001b[39mcls\u001b[39m, axis: Axis) \u001b[39m-\u001b[39m\u001b[39m>\u001b[39m \u001b[39mint\u001b[39m:\n\u001b[0;32m    549\u001b[0m     \u001b[39mtry\u001b[39;00m:\n\u001b[1;32m--> 550\u001b[0m         \u001b[39mreturn\u001b[39;00m \u001b[39mcls\u001b[39;49m\u001b[39m.\u001b[39;49m_AXIS_TO_AXIS_NUMBER[axis]\n\u001b[0;32m    551\u001b[0m     \u001b[39mexcept\u001b[39;00m \u001b[39mKeyError\u001b[39;00m:\n\u001b[0;32m    552\u001b[0m         \u001b[39mraise\u001b[39;00m \u001b[39mValueError\u001b[39;00m(\u001b[39mf\u001b[39m\u001b[39m\"\u001b[39m\u001b[39mNo axis named \u001b[39m\u001b[39m{\u001b[39;00maxis\u001b[39m}\u001b[39;00m\u001b[39m for object type \u001b[39m\u001b[39m{\u001b[39;00m\u001b[39mcls\u001b[39m\u001b[39m.\u001b[39m\u001b[39m__name__\u001b[39m\u001b[39m}\u001b[39;00m\u001b[39m\"\u001b[39m)\n",
      "\u001b[1;31mTypeError\u001b[0m: unhashable type: 'list'"
     ]
    }
   ],
   "source": [
    "df.max([\"\"])"
   ]
  },
  {
   "cell_type": "code",
   "execution_count": 20,
   "metadata": {},
   "outputs": [
    {
     "data": {
      "text/html": [
       "<div>\n",
       "<style scoped>\n",
       "    .dataframe tbody tr th:only-of-type {\n",
       "        vertical-align: middle;\n",
       "    }\n",
       "\n",
       "    .dataframe tbody tr th {\n",
       "        vertical-align: top;\n",
       "    }\n",
       "\n",
       "    .dataframe thead th {\n",
       "        text-align: right;\n",
       "    }\n",
       "</style>\n",
       "<table border=\"1\" class=\"dataframe\">\n",
       "  <thead>\n",
       "    <tr style=\"text-align: right;\">\n",
       "      <th></th>\n",
       "    </tr>\n",
       "  </thead>\n",
       "  <tbody>\n",
       "  </tbody>\n",
       "</table>\n",
       "</div>"
      ],
      "text/plain": [
       "Empty DataFrame\n",
       "Columns: []\n",
       "Index: []"
      ]
     },
     "execution_count": 20,
     "metadata": {},
     "output_type": "execute_result"
    }
   ],
   "source": [
    "df.corr()"
   ]
  },
  {
   "cell_type": "code",
   "execution_count": 21,
   "metadata": {},
   "outputs": [
    {
     "name": "stderr",
     "output_type": "stream",
     "text": [
      "C:\\Users\\ASUS\\AppData\\Local\\Temp\\ipykernel_15136\\1665899112.py:1: FutureWarning: Dropping of nuisance columns in DataFrame reductions (with 'numeric_only=None') is deprecated; in a future version this will raise TypeError.  Select only valid columns before calling the reduction.\n",
      "  df.skew()\n"
     ]
    },
    {
     "data": {
      "text/plain": [
       "Series([], dtype: float64)"
      ]
     },
     "execution_count": 21,
     "metadata": {},
     "output_type": "execute_result"
    }
   ],
   "source": [
    "df.skew()"
   ]
  },
  {
   "cell_type": "code",
   "execution_count": 19,
   "metadata": {},
   "outputs": [
    {
     "ename": "AttributeError",
     "evalue": "'DataFrame' object has no attribute 'summary'",
     "output_type": "error",
     "traceback": [
      "\u001b[1;31m---------------------------------------------------------------------------\u001b[0m",
      "\u001b[1;31mAttributeError\u001b[0m                            Traceback (most recent call last)",
      "\u001b[1;32md:\\programming_advance\\data_bot\\numpy_practice.ipynb Cell 16\u001b[0m in \u001b[0;36m<cell line: 1>\u001b[1;34m()\u001b[0m\n\u001b[1;32m----> <a href='vscode-notebook-cell:/d%3A/programming_advance/data_bot/numpy_practice.ipynb#ch0000015?line=0'>1</a>\u001b[0m df\u001b[39m.\u001b[39;49msummary()\n",
      "File \u001b[1;32md:\\programming_advance\\data_bot\\venv\\lib\\site-packages\\pandas\\core\\generic.py:5575\u001b[0m, in \u001b[0;36mNDFrame.__getattr__\u001b[1;34m(self, name)\u001b[0m\n\u001b[0;32m   5568\u001b[0m \u001b[39mif\u001b[39;00m (\n\u001b[0;32m   5569\u001b[0m     name \u001b[39mnot\u001b[39;00m \u001b[39min\u001b[39;00m \u001b[39mself\u001b[39m\u001b[39m.\u001b[39m_internal_names_set\n\u001b[0;32m   5570\u001b[0m     \u001b[39mand\u001b[39;00m name \u001b[39mnot\u001b[39;00m \u001b[39min\u001b[39;00m \u001b[39mself\u001b[39m\u001b[39m.\u001b[39m_metadata\n\u001b[0;32m   5571\u001b[0m     \u001b[39mand\u001b[39;00m name \u001b[39mnot\u001b[39;00m \u001b[39min\u001b[39;00m \u001b[39mself\u001b[39m\u001b[39m.\u001b[39m_accessors\n\u001b[0;32m   5572\u001b[0m     \u001b[39mand\u001b[39;00m \u001b[39mself\u001b[39m\u001b[39m.\u001b[39m_info_axis\u001b[39m.\u001b[39m_can_hold_identifiers_and_holds_name(name)\n\u001b[0;32m   5573\u001b[0m ):\n\u001b[0;32m   5574\u001b[0m     \u001b[39mreturn\u001b[39;00m \u001b[39mself\u001b[39m[name]\n\u001b[1;32m-> 5575\u001b[0m \u001b[39mreturn\u001b[39;00m \u001b[39mobject\u001b[39;49m\u001b[39m.\u001b[39;49m\u001b[39m__getattribute__\u001b[39;49m(\u001b[39mself\u001b[39;49m, name)\n",
      "\u001b[1;31mAttributeError\u001b[0m: 'DataFrame' object has no attribute 'summary'"
     ]
    }
   ],
   "source": [
    "df.summary()"
   ]
  },
  {
   "cell_type": "code",
   "execution_count": 22,
   "metadata": {},
   "outputs": [
    {
     "data": {
      "text/plain": [
       "Index(['Name', 'Display Name', 'Tags', 'Email', 'PAN No', 'Remarks'], dtype='object')"
      ]
     },
     "execution_count": 22,
     "metadata": {},
     "output_type": "execute_result"
    }
   ],
   "source": [
    "df.columns"
   ]
  },
  {
   "cell_type": "code",
   "execution_count": 23,
   "metadata": {},
   "outputs": [
    {
     "data": {
      "text/plain": [
       "<pandas.core.groupby.generic.DataFrameGroupBy object at 0x000001E4A227BCD0>"
      ]
     },
     "execution_count": 23,
     "metadata": {},
     "output_type": "execute_result"
    }
   ],
   "source": [
    "df.groupby([\"Name\",\"Remarks\"])"
   ]
  },
  {
   "cell_type": "code",
   "execution_count": null,
   "metadata": {},
   "outputs": [],
   "source": []
  }
 ],
 "metadata": {
  "interpreter": {
   "hash": "9378fb610dc1d9188f009e905a0be862dd6a61030397784a0074db12581998e7"
  },
  "kernelspec": {
   "display_name": "Python 3.10.4 ('venv': venv)",
   "language": "python",
   "name": "python3"
  },
  "language_info": {
   "codemirror_mode": {
    "name": "ipython",
    "version": 3
   },
   "file_extension": ".py",
   "mimetype": "text/x-python",
   "name": "python",
   "nbconvert_exporter": "python",
   "pygments_lexer": "ipython3",
   "version": "3.10.4"
  },
  "orig_nbformat": 4
 },
 "nbformat": 4,
 "nbformat_minor": 2
}
